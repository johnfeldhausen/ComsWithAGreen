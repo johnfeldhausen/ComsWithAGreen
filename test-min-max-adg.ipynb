{
 "cells": [
  {
   "cell_type": "code",
   "execution_count": 1,
   "id": "6339d021",
   "metadata": {},
   "outputs": [
    {
     "name": "stdout",
     "output_type": "stream",
     "text": [
      "zshenv\n",
      "\n",
      "\u001b[1m[\u001b[0m\u001b[34;49mnotice\u001b[0m\u001b[1;39;49m]\u001b[0m\u001b[39;49m A new release of pip is available: \u001b[0m\u001b[31;49m23.3.1\u001b[0m\u001b[39;49m -> \u001b[0m\u001b[32;49m23.3.2\u001b[0m\n",
      "\u001b[1m[\u001b[0m\u001b[34;49mnotice\u001b[0m\u001b[1;39;49m]\u001b[0m\u001b[39;49m To update, run: \u001b[0m\u001b[32;49mpython -m pip install --upgrade pip\u001b[0m\n"
     ]
    }
   ],
   "source": [
    "!pip install -q git+https://github.com/ADGEfficiency/energy-py-linear@dc97b3510170722ce7c39c4c56e412919cfbb6fc\n",
    "import energypylinear as epl"
   ]
  },
  {
   "cell_type": "markdown",
   "id": "bdbaa6c2",
   "metadata": {},
   "source": [
    "# Maximum Demand Charge"
   ]
  },
  {
   "cell_type": "code",
   "execution_count": 2,
   "id": "377158c1",
   "metadata": {},
   "outputs": [],
   "source": [
    "electric_load_mwh = [30.0, 50.0, 10.0]\n",
    "electricity_prices = [0.0, 0.0, 0.0]\n",
    "gas_prices = 20\n",
    "\n",
    "site = epl.Site(\n",
    "    assets=[\n",
    "        epl.CHP(\n",
    "            electric_efficiency_pct=1.0,\n",
    "            electric_power_max_mw=50,\n",
    "            electric_power_min_mw=0,\n",
    "        )\n",
    "    ],\n",
    "    gas_prices=gas_prices,\n",
    "    electricity_prices=electricity_prices,\n",
    "    electric_load_mwh=electric_load_mwh,\n",
    ")\n",
    "\n",
    "no_demand_charge_simulation = site.optimize(\n",
    "    verbose=3,\n",
    "    objective={\n",
    "        \"terms\": [\n",
    "            {\n",
    "                \"asset_type\": \"site\",\n",
    "                \"variable\": \"import_power_mwh\",\n",
    "                \"interval_data\": \"electricity_prices\",\n",
    "            },\n",
    "            {\n",
    "                \"asset_type\": \"site\",\n",
    "                \"variable\": \"export_power_mwh\",\n",
    "                \"interval_data\": \"electricity_prices\",\n",
    "                \"coefficient\": -1,\n",
    "            },\n",
    "            {\n",
    "                \"asset_type\": \"*\",\n",
    "                \"variable\": \"gas_consumption_mwh\",\n",
    "                \"interval_data\": \"gas_prices\",\n",
    "            },\n",
    "        ]\n",
    "    },\n",
    ")"
   ]
  },
  {
   "cell_type": "code",
   "execution_count": 3,
   "id": "2ec192d4",
   "metadata": {},
   "outputs": [
    {
     "name": "stdout",
     "output_type": "stream",
     "text": [
      "0    0.0\n",
      "1    0.0\n",
      "2    0.0\n",
      "Name: chp-electric_generation_mwh, dtype: float64\n"
     ]
    }
   ],
   "source": [
    "print(no_demand_charge_simulation.results['chp-electric_generation_mwh'])"
   ]
  },
  {
   "cell_type": "markdown",
   "id": "1d2eda3f-8fa2-47f1-8934-8927a629436f",
   "metadata": {},
   "source": [
    "## "
   ]
  },
  {
   "cell_type": "markdown",
   "id": "3be9ce51-0306-44ae-975e-683a4f7dd3e4",
   "metadata": {},
   "source": [
    "## "
   ]
  },
  {
   "cell_type": "markdown",
   "id": "28cf068a-26c5-425c-8645-e35e393085cc",
   "metadata": {},
   "source": [
    "## Questions\n",
    "\n",
    "> \"asset_type\": \"*\", #QUESTION : what does the * mean here? is this a wildcard that will default to all assets with gas consumption? what if we had 2 CHPs\n",
    "\n",
    "This is a wildcard that will match all assets.\n",
    "\n",
    "> \"constant\": 40, #QUESTION : can the minimum peak demand that gets charged be set to 0 MW? So that the demand charge is applied to whatever the greatest peak demand is?\n",
    "\n",
    "Yes.\n",
    "\n",
    "> # COMMENT: I like the idea of setting the min for the first month of a year to 0, and then setting the min to the max of the trailing 12 months. This could be very simple and useful. \n",
    "> # it would just require some additional logic between each simulation, where there is one simulation per monthly set of data.\n",
    "\n",
    "Yes - the idea is that this loop would be written by you - you would iterate over months and run 12 simulations.\n",
    "\n",
    "> \"coefficient\": 200, # It doesn't look like a change of this value impacts the profit or behavior of the model. Why is that?\n",
    "\n",
    "The reason is that I don't include the demand charges in the `epl.Accounts` - I actually forgot about this!\n",
    "\n",
    "> \"M\": max(electric_load_mwh) * 10 #QUESTION : what is the 10 used for here? why are we using the constant array of electric_load_mwh when we want to look at the dynamic import_power_mwh and optimize the model such that the LP decision variables condsider the demand pricing and import_power_mwh.\n",
    "\n",
    "Here M is `Big-M` - see https://en.wikipedia.org/wiki/Big_M_method."
   ]
  },
  {
   "cell_type": "code",
   "execution_count": 4,
   "id": "71aac489",
   "metadata": {},
   "outputs": [],
   "source": [
    "demand_charge_simulation = site.optimize(\n",
    "    verbose=3,\n",
    "    objective={\n",
    "        \"terms\": [\n",
    "            {\n",
    "                \"asset_type\": \"site\",\n",
    "                \"variable\": \"import_power_mwh\",\n",
    "                \"interval_data\": \"electricity_prices\",\n",
    "            },\n",
    "            {\n",
    "                \"asset_type\": \"site\",\n",
    "                \"variable\": \"export_power_mwh\",\n",
    "                \"interval_data\": \"electricity_prices\",\n",
    "                \"coefficient\": -1,\n",
    "            },\n",
    "            {\n",
    "                \"asset_type\": \"*\", #QUESTION : what does the * mean here? is this a wildcard that will default to all assets with gas consumption? what if we had 2 CHPs\n",
    "                \"variable\": \"gas_consumption_mwh\",\n",
    "                \"interval_data\": \"gas_prices\",\n",
    "            },\n",
    "            {\n",
    "                \"function\": \"max_many_variables\",\n",
    "                \"variables\": {\n",
    "                    \"asset_type\": \"site\",\n",
    "                    \"variable\": \"import_power_mwh\",\n",
    "                },\n",
    "                \"constant\": 40, #QUESTION : can the minimum peak demand that gets charged be set to 0 MW? So that the demand charge is applied to whatever the greatest peak demand is?\n",
    "                                 # COMMENT: I like the idea of setting the min for the first month of a year to 0, and then setting the min to the max of the trailing 12 months. This could be very simple and useful. \n",
    "                                 # it would just require some additional logic between each simulation, where there is one simulation per monthly set of data. \n",
    "                \"coefficient\": 200, # It doesn't look like a change of this value impacts the profit or behavior of the model. Why is that?\n",
    "                \"M\": max(electric_load_mwh) * 10 #QUESTION : what is the 10 used for here? why are we using the constant array of electric_load_mwh when we want to look at the dynamic import_power_mwh and\n",
    "            },                                    # ... and optimize the model such that the LP decision variables condsider the demand pricing and import_power_mwh.\n",
    "        ]\n",
    "    },\n",
    ")"
   ]
  },
  {
   "cell_type": "code",
   "execution_count": 5,
   "id": "941a7ef7",
   "metadata": {},
   "outputs": [
    {
     "name": "stdout",
     "output_type": "stream",
     "text": [
      "   site-electric_load_mwh  chp-electric_generation_mwh\n",
      "0                    30.0                          0.0\n",
      "1                    50.0                         10.0\n",
      "2                    10.0                          0.0\n",
      "{'profit': '-200.00', 'emissions': '9.85'}\n"
     ]
    }
   ],
   "source": [
    "print(\n",
    "    demand_charge_simulation.results[\n",
    "        [\"site-electric_load_mwh\", \"chp-electric_generation_mwh\"]\n",
    "    ]\n",
    ")\n",
    "\n",
    "accounts = epl.get_accounts(demand_charge_simulation.results)\n",
    "\n",
    "print({\n",
    "    \"profit\": f\"{accounts.profit:5.2f}\", #QUESTION: why doesn't a change in the demand charge change the profit? How can I see the final profit change due to the coefficient sest in the \"max_many_variables\" term\n",
    "    \"emissions\": f\"{accounts.emissions:3.2f}\"}) #QUESTION: same as question in the line above. \n",
    "\n",
    "# RESULT with coefficient = 800\n",
    "#{'profit': '-200.00', 'emissions': '9.85'}\n",
    "\n",
    "# RESULT with coefficient = 200\n",
    "#{'profit': '-200.00', 'emissions': '9.85'}"
   ]
  },
  {
   "cell_type": "markdown",
   "id": "8233d56d-090b-4a81-b212-a4362b5398a2",
   "metadata": {},
   "source": [
    "Below I show that the objective function does change:"
   ]
  },
  {
   "cell_type": "code",
   "execution_count": 9,
   "id": "af057d0c-766a-4bc5-be7f-73a8680e8f65",
   "metadata": {},
   "outputs": [
    {
     "data": {
      "text/plain": [
       "0.0"
      ]
     },
     "execution_count": 9,
     "metadata": {},
     "output_type": "execute_result"
    }
   ],
   "source": [
    "no_demand_charge_simulation.status.objective"
   ]
  },
  {
   "cell_type": "code",
   "execution_count": 10,
   "id": "2d69235a-8c0f-41c8-bbba-0869f1717380",
   "metadata": {},
   "outputs": [
    {
     "data": {
      "text/plain": [
       "8200.0"
      ]
     },
     "execution_count": 10,
     "metadata": {},
     "output_type": "execute_result"
    }
   ],
   "source": [
    "demand_charge_simulation.status.objective"
   ]
  },
  {
   "cell_type": "code",
   "execution_count": 12,
   "id": "3049d13a-1db6-4fcc-9131-8afccfacbec5",
   "metadata": {},
   "outputs": [
    {
     "name": "stdout",
     "output_type": "stream",
     "text": [
      "200 8300.0\n",
      "800 32300.0\n"
     ]
    }
   ],
   "source": [
    "for coeff in [200, 800]:\n",
    "    demand_charge_simulation = site.optimize(\n",
    "        verbose=3,\n",
    "        objective={\n",
    "            \"terms\": [\n",
    "                {\n",
    "                    \"asset_type\": \"site\",\n",
    "                    \"variable\": \"import_power_mwh\",\n",
    "                    \"interval_data\": \"electricity_prices\",\n",
    "                },\n",
    "                {\n",
    "                    \"asset_type\": \"site\",\n",
    "                    \"variable\": \"export_power_mwh\",\n",
    "                    \"interval_data\": \"electricity_prices\",\n",
    "                    \"coefficient\": -1,\n",
    "                },\n",
    "                {\n",
    "                    \"asset_type\": \"*\", #QUESTION : what does the * mean here? is this a wildcard that will default to all assets with gas consumption? what if we had 2 CHPs\n",
    "                    \"variable\": \"gas_consumption_mwh\",\n",
    "                    \"interval_data\": \"gas_prices\",\n",
    "                },\n",
    "                {\n",
    "                    \"function\": \"max_many_variables\",\n",
    "                    \"variables\": {\n",
    "                        \"asset_type\": \"site\",\n",
    "                        \"variable\": \"import_power_mwh\",\n",
    "                    },\n",
    "                    \"constant\": 40, #QUESTION : can the minimum peak demand that gets charged be set to 0 MW? So that the demand charge is applied to whatever the greatest peak demand is?\n",
    "                                     # COMMENT: I like the idea of setting the min for the first month of a year to 0, and then setting the min to the max of the trailing 12 months. This could be very simple and useful. \n",
    "                                     # it would just require some additional logic between each simulation, where there is one simulation per monthly set of data. \n",
    "                    \"coefficient\": coeff, # It doesn't look like a change of this value impacts the profit or behavior of the model. Why is that?\n",
    "                    \"M\": max(electric_load_mwh) * 10 #QUESTION : what is the 10 used for here? why are we using the constant array of electric_load_mwh when we want to look at the dynamic import_power_mwh and\n",
    "                },                                    # ... and optimize the model such that the LP decision variables condsider the demand pricing and import_power_mwh.\n",
    "            ]\n",
    "        },\n",
    "    )\n",
    "    print(coeff, demand_charge_simulation.status.objective)"
   ]
  },
  {
   "cell_type": "markdown",
   "id": "256120d4",
   "metadata": {},
   "source": [
    "# Minimum Export Incentive\n",
    "\n",
    "## Questions"
   ]
  },
  {
   "cell_type": "code",
   "execution_count": 6,
   "id": "bda9792c",
   "metadata": {},
   "outputs": [],
   "source": [
    "electric_load_mwh = [30.0, 45, 50.0, 10.0]\n",
    "electricity_prices = [0.0, 0.0, 0, 0.0]\n",
    "gas_prices = 20\n",
    "\n",
    "site = epl.Site(\n",
    "    assets=[\n",
    "        epl.CHP(\n",
    "            electric_efficiency_pct=1.0,\n",
    "            electric_power_max_mw=50,\n",
    "            electric_power_min_mw=0,\n",
    "        )\n",
    "    ],\n",
    "    gas_prices=gas_prices,\n",
    "    electricity_prices=electricity_prices,\n",
    "    electric_load_mwh=electric_load_mwh,\n",
    ")"
   ]
  },
  {
   "cell_type": "code",
   "execution_count": 7,
   "id": "0dbc8212",
   "metadata": {},
   "outputs": [
    {
     "name": "stdout",
     "output_type": "stream",
     "text": [
      "0    0.0\n",
      "1    0.0\n",
      "2    0.0\n",
      "3    0.0\n",
      "Name: chp-electric_generation_mwh, dtype: float64\n"
     ]
    }
   ],
   "source": [
    "no_export_incentive_simulation = site.optimize(\n",
    "    verbose=3,\n",
    "    objective={\n",
    "        \"terms\": [\n",
    "            {\n",
    "                \"asset_type\": \"site\",\n",
    "                \"variable\": \"import_power_mwh\",\n",
    "                \"interval_data\": \"electricity_prices\",\n",
    "            },\n",
    "            {\n",
    "                \"asset_type\": \"site\",\n",
    "                \"variable\": \"export_power_mwh\",\n",
    "                \"interval_data\": \"electricity_prices\",\n",
    "                \"coefficient\": -1,\n",
    "            },\n",
    "            {\n",
    "                \"asset_type\": \"*\",\n",
    "                \"variable\": \"gas_consumption_mwh\",\n",
    "                \"interval_data\": \"gas_prices\",\n",
    "            },\n",
    "        ]\n",
    "    },\n",
    ")\n",
    "\n",
    "print(no_export_incentive_simulation.results['chp-electric_generation_mwh'])"
   ]
  },
  {
   "cell_type": "code",
   "execution_count": 8,
   "id": "6ab4f3d0",
   "metadata": {},
   "outputs": [
    {
     "name": "stdout",
     "output_type": "stream",
     "text": [
      "   site-electric_load_mwh  site-import_power_mwh  site-export_power_mwh  chp-electric_generation_mwh\n",
      "0                    30.0                    0.0                   15.0                         45.0\n",
      "1                    45.0                   45.0                    0.0                          0.0\n",
      "2                    50.0                   50.0                    0.0                          0.0\n",
      "3                    10.0                    0.0                   15.0                         25.0\n"
     ]
    },
    {
     "data": {
      "text/plain": [
       "\"\\n   site-electric_load_mwh  site-import_power_mwh  site-export_power_mwh       chp-electric_generation_mwh  \\n0                    30.0          here     30.0            here   15.0                            15.0\\n1                    45.0                   45.0            here    0.0                             0.0 #Shouldn't this again be generating/exporting 15 MWh to get the 200 incentive?\\n2                    50.0                   50.0            here    0.0                             0.0 #Shouldn't this again be generating/exporting 15 MWh  to get the 200 incentive? \\n3                    10.0                    0.0                   15.0                            25.0\\n\""
      ]
     },
     "execution_count": 8,
     "metadata": {},
     "output_type": "execute_result"
    }
   ],
   "source": [
    "no_export_incentive_simulation = site.optimize(\n",
    "    verbose=3,\n",
    "    objective={\n",
    "        \"terms\": [\n",
    "            {\n",
    "                \"asset_type\": \"site\",\n",
    "                \"variable\": \"import_power_mwh\",\n",
    "                \"interval_data\": \"electricity_prices\",\n",
    "            },\n",
    "            {\n",
    "                \"asset_type\": \"site\",\n",
    "                \"variable\": \"export_power_mwh\",\n",
    "                \"interval_data\": \"electricity_prices\",\n",
    "                \"coefficient\": -1,\n",
    "            },\n",
    "            {\n",
    "                \"asset_type\": \"*\",\n",
    "                \"variable\": \"gas_consumption_mwh\",\n",
    "                \"interval_data\": \"gas_prices\",\n",
    "            },\n",
    "            {\n",
    "                \"function\": \"min_two_variables\",\n",
    "\n",
    "                #THE LINEAR PROGRAM VARIABLE IS PART 1 OF THE MIN_TWO_VARIABLES FUNCTION\n",
    "                \"a\": {\n",
    "                    \"asset_type\": \"site\",\n",
    "                    \"variable\": \"export_power_mwh\",\n",
    "                },\n",
    "\n",
    "                # THE USER SUPPLIED CONSTANT IS PART 2 OF THE MIN_TWO_VARIABLES FUNCTION\n",
    "                # In the docs you say \"To demonstrate this we can look at a site where we want to incentivize a minimum export of 10 MW or greater in each interval.\" Did you mean to set the b constant to 10? \n",
    "\n",
    "                \"b\": 15,\n",
    "                \"coefficient\": -200, #QUESTION: the -200 coefficient is the $200 incentive for every MWh exported? or only for MWh exported above 15 MWh? \n",
    "                \"M\": max(electric_load_mwh) * 10 #QUESTION: \n",
    "            },\n",
    "        ]\n",
    "    },\n",
    ")\n",
    "\n",
    "print(\n",
    "    no_export_incentive_simulation.results[\n",
    "        [\n",
    "            \"site-electric_load_mwh\",\n",
    "            \"site-import_power_mwh\",\n",
    "            \"site-export_power_mwh\",\n",
    "            \"chp-electric_generation_mwh\",\n",
    "        ]\n",
    "    ]\n",
    ")\n",
    "\n",
    "\n",
    "# if the cost of imported electricity is 0, yet the export is incentivized at $200/MWh for 15 MWh. Does it not get paid if it generates beyond the 15 MWh? Is every MWh beyond 15 MWh not incentivized?\n",
    "\n",
    "''' THESE ARE THE ACTUAL SIMULATION RESULTS\n",
    "   site-electric_load_mwh  site-import_power_mwh  site-export_power_mwh       chp-electric_generation_mwh  \n",
    "0                    30.0                    0.0                   15.0                            45.0\n",
    "1                    45.0                   45.0                    0.0                             0.0\n",
    "2                    50.0                   50.0                    0.0                             0.0 \n",
    "3                    10.0                    0.0                   15.0                            25.0\n",
    "'''\n",
    "\n",
    "# result expected for row 1: \n",
    "'''\n",
    "   site-electric_load_mwh  site-import_power_mwh  site-export_power_mwh       chp-electric_generation_mwh  \n",
    "0                    30.0          here     30.0            here   15.0                            15.0\n",
    "1                    45.0                   45.0            here    0.0                             0.0 #Shouldn't this again be generating/exporting 15 MWh to get the 200 incentive?\n",
    "2                    50.0                   50.0            here    0.0                             0.0 #Shouldn't this again be generating/exporting 15 MWh  to get the 200 incentive? \n",
    "3                    10.0                    0.0                   15.0                            25.0\n",
    "'''\n"
   ]
  }
 ],
 "metadata": {
  "jupytext": {
   "formats": "ipynb,md"
  },
  "kernelspec": {
   "display_name": "Python 3 (ipykernel)",
   "language": "python",
   "name": "python3"
  },
  "language_info": {
   "codemirror_mode": {
    "name": "ipython",
    "version": 3
   },
   "file_extension": ".py",
   "mimetype": "text/x-python",
   "name": "python",
   "nbconvert_exporter": "python",
   "pygments_lexer": "ipython3",
   "version": "3.10.6"
  }
 },
 "nbformat": 4,
 "nbformat_minor": 5
}
